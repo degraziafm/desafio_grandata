{
 "cells": [
  {
   "cell_type": "markdown",
   "id": "07d9fbc7-22f8-4a11-8c48-89285089e97b",
   "metadata": {},
   "source": [
    "# Import de librerias"
   ]
  },
  {
   "cell_type": "code",
   "execution_count": 230,
   "id": "15c64024-ebd7-4bad-8359-59b910bf79dc",
   "metadata": {},
   "outputs": [],
   "source": [
    "import json\n",
    "import os\n",
    "import matplotlib.pyplot as plt\n",
    "\n",
    "from pyspark.sql import SparkSession\n",
    "from pyspark.sql.functions import col, lit, md5, sum, when "
   ]
  },
  {
   "cell_type": "code",
   "execution_count": 14,
   "id": "3a1c4df5-6f66-481d-addf-563de08a0b1f",
   "metadata": {},
   "outputs": [],
   "source": [
    "spark = SparkSession.builder.appName(\"Desafio\").getOrCreate()"
   ]
  },
  {
   "cell_type": "markdown",
   "id": "99e6db2e-c82d-499c-843b-b35f6b9f2a52",
   "metadata": {},
   "source": [
    "# Definiciones: Variables, constantes, estructuras"
   ]
  },
  {
   "cell_type": "code",
   "execution_count": 231,
   "id": "c4d1e974-3f55-4cc9-8ca2-07caffdb6107",
   "metadata": {},
   "outputs": [],
   "source": [
    "COMPRESSION_FORMAT = \"gzip\"\n",
    "PARTITION_COLUMN = \"date\"\n",
    "\n",
    "ROOT_INPUT_DIR = \"inputs\"\n",
    "FILES_DIR = \"csv\"\n",
    "\n",
    "EVENTS_FILE_NAME = \"events.csv\"\n",
    "FREE_DEST_FILE_NAME = \"free_destinations.csv\"\n",
    "\n",
    "OUTPUT_FILE_NAME = \"top_100_facturacion.parquet\"\n",
    "\n",
    "TITLE_X = \"Hora del día\"\n",
    "TITLE_Y = \"Cantidad de llamadas\"\n",
    "TITLE = \"Histograma de llamadas por hora del día\""
   ]
  },
  {
   "cell_type": "code",
   "execution_count": 187,
   "id": "5b68d8fa-1d35-47e1-9994-2e9c8b3f5fe5",
   "metadata": {},
   "outputs": [],
   "source": [
    "events_path = os.path.join(ROOT_INPUT_DIR, FILES_DIR, EVENTS_FILE_NAME)\n",
    "free_path = os.path.join(ROOT_INPUT_DIR, FILES_DIR, FREE_DEST_FILE_NAME)\n",
    "config_path = os.path.join(ROOT_INPUT_DIR, \"config.json\")"
   ]
  },
  {
   "cell_type": "markdown",
   "id": "67f34d6b-4ec6-4425-a0f0-5d2bee4b4dc5",
   "metadata": {},
   "source": [
    "# Funsionces"
   ]
  },
  {
   "cell_type": "code",
   "execution_count": 232,
   "id": "4d9c2af5-5f99-44fb-bb0d-c720a65c7637",
   "metadata": {},
   "outputs": [],
   "source": [
    "def joins(eventos, free_target, costos):\n",
    "    df_eventos_ok = eventos.filter((col(\"id_source\").isNotNull()) & (col(\"id_destination\").isNotNull()))\n",
    "    df_eventos_pricing = df_eventos_ok.join(costos, costos.nro_region == df_eventos_ok.region)\n",
    "    df_free_target = free_target.withColumn(\"flag_free\", lit(1))\n",
    "\n",
    "    df = df_eventos_pricing.join(df_free_target, df_eventos_ok.id_destination == df_free_target.id, \"left\") \\\n",
    "    .drop(\"id\", \"id_destination\")\n",
    "\n",
    "    return df"
   ]
  },
  {
   "cell_type": "code",
   "execution_count": 233,
   "id": "39379e38-2f12-4a72-b950-f034d65e5a69",
   "metadata": {},
   "outputs": [],
   "source": [
    "def facturacion(df):\n",
    "    # El enunciado no lo especifica, supongo que el precio por llamada es igual al precio por sms (pero no hay bonificacion)\n",
    "    df_full_pricing = df.withColumn(\n",
    "        \"facturacion_sms\", when(col(\"flag_free\") == 1, lit(0)).otherwise(col(\"sms\") * col(\"precio\"))) \\\n",
    "        .withColumn(\"facturacion_calls\", col(\"calls\") * col(\"precio\"))\n",
    "\n",
    "    df_fact = df_full_pricing.withColumn(\"facturacion_total\", col(\"facturacion_sms\") + col(\"facturacion_calls\"))\n",
    "\n",
    "    return df_fact"
   ]
  },
  {
   "cell_type": "code",
   "execution_count": 234,
   "id": "5ebef46e-5d43-448f-89e2-36465ab938e5",
   "metadata": {},
   "outputs": [],
   "source": [
    "def tranform(eventos, free_target, costos):\n",
    "    df_join = joins(eventos, free_target, costos)\n",
    "    df_facturacion = facturacion(df_join)\n",
    "    df_hash = df_facturacion.withColumn(\"id_hash\", md5(\"id_source\"))\n",
    "\n",
    "    return df_hash"
   ]
  },
  {
   "cell_type": "markdown",
   "id": "4b34b616-b108-4595-996b-5173f116590f",
   "metadata": {},
   "source": [
    "# Lectura de datos"
   ]
  },
  {
   "cell_type": "code",
   "execution_count": 235,
   "id": "17bd8b03-120b-4e33-95d1-b9f2321d3e04",
   "metadata": {},
   "outputs": [],
   "source": [
    "# Este archivo es un ejemplo de guardado de datos fuera del ejecutable para sean facilmente modificables.\n",
    "with open(config_path) as f:\n",
    "    config_file_js = json.load(f)"
   ]
  },
  {
   "cell_type": "code",
   "execution_count": 236,
   "id": "298e0484-19b6-4810-8913-b82108347506",
   "metadata": {},
   "outputs": [],
   "source": [
    "rows_limit = config_file_js[\"rows_limit\"]"
   ]
  },
  {
   "cell_type": "code",
   "execution_count": 237,
   "id": "b6bbe715-e691-4d88-991b-0867de9b6c50",
   "metadata": {},
   "outputs": [
    {
     "data": {
      "text/plain": [
       "DataFrame[nro_region: bigint, precio: double]"
      ]
     },
     "execution_count": 237,
     "metadata": {},
     "output_type": "execute_result"
    }
   ],
   "source": [
    "df_costos = spark.createDataFrame(config_file_js[\"cost\"])\n",
    "df_costos.cache()"
   ]
  },
  {
   "cell_type": "code",
   "execution_count": 238,
   "id": "b370bb19-32b7-491d-8a0b-52b715f12a41",
   "metadata": {},
   "outputs": [],
   "source": [
    "df_eventos = spark.read.csv(events_path, header = True, inferSchema = True)"
   ]
  },
  {
   "cell_type": "code",
   "execution_count": 239,
   "id": "339b210c-0112-4eb4-8cec-c8cc4fdb7b41",
   "metadata": {},
   "outputs": [],
   "source": [
    "df_free_target = spark.read.csv(free_path, header = True, inferSchema = True)"
   ]
  },
  {
   "cell_type": "markdown",
   "id": "50fb58f6-4733-4f50-a509-0bf9e5751109",
   "metadata": {},
   "source": [
    "# Transformacion"
   ]
  },
  {
   "cell_type": "code",
   "execution_count": 240,
   "id": "871bbad7-e8c4-4277-89a5-c360a6bc1e9f",
   "metadata": {},
   "outputs": [],
   "source": [
    "df = tranform(df_eventos, df_free_target, df_costos)"
   ]
  },
  {
   "cell_type": "markdown",
   "id": "4dbb1993-56ba-47fb-aa2a-540e498c514f",
   "metadata": {},
   "source": [
    "### Calcular el monto total que facturará el proveedor del servicio por envíos de sms."
   ]
  },
  {
   "cell_type": "code",
   "execution_count": 241,
   "id": "0b921b5e-d7b0-43e8-bb19-220f52c2af73",
   "metadata": {},
   "outputs": [
    {
     "name": "stdout",
     "output_type": "stream",
     "text": [
      "+---------------------+\n",
      "|facturacion_total_sms|\n",
      "+---------------------+\n",
      "|             391367.0|\n",
      "+---------------------+\n",
      "\n"
     ]
    }
   ],
   "source": [
    "df.select(sum('facturacion_sms').alias(\"facturacion_total_sms\")).show()"
   ]
  },
  {
   "cell_type": "markdown",
   "id": "8034c53c-923f-4ef1-bafb-b94956bfd45d",
   "metadata": {},
   "source": [
    "# Guardado"
   ]
  },
  {
   "cell_type": "markdown",
   "id": "e9f73c91-ae56-456c-964d-0d609a8fdb97",
   "metadata": {},
   "source": [
    "### Generar un dataset que contenga los ID de los 100 usuarios con mayor facturación por envío de sms y el monto total a facturar a cada uno. Además del ID, incluir el ID hasheado mediante el algoritmo MD5. Escribir el dataset en formato parquet con compresión gzip."
   ]
  },
  {
   "cell_type": "code",
   "execution_count": 242,
   "id": "8c62c783-f088-4426-9065-d773f6f32c8a",
   "metadata": {},
   "outputs": [],
   "source": [
    "df.orderBy(\"facturacion_sms\", ascending = False) \\\n",
    "    .select(col(\"id_source\"), col(\"id_hash\"), col(\"facturacion_total\")) \\\n",
    "    .limit(rows_limit) \\\n",
    "    .write.mode(\"overwrite\") \\\n",
    "    .parquet(OUTPUT_FILE_NAME, compression = COMPRESSION_FORMAT)\n",
    "\n",
    "# en caso de que necesite particionar salida se puede agregar .partitionBy(PARTITION_COLUMN) a la sentencia."
   ]
  },
  {
   "cell_type": "markdown",
   "id": "c6ad171e-b887-456b-b63a-5c0d8da761bf",
   "metadata": {},
   "source": [
    "# Grafico"
   ]
  },
  {
   "cell_type": "markdown",
   "id": "3764ef77-2961-4a19-ad89-643ac77bad2c",
   "metadata": {},
   "source": [
    "### Graficar un histograma de cantidad de llamadas que se realizan por hora del día."
   ]
  },
  {
   "cell_type": "code",
   "execution_count": 243,
   "id": "57252be2-3380-4011-bb81-3ac923163bec",
   "metadata": {},
   "outputs": [],
   "source": [
    "df_calls_by_hour = df.groupBy(\"hour\").agg(sum(\"calls\").alias(\"total_llamadas\"))\n",
    "df_pd = df_calls_by_hour.toPandas()"
   ]
  },
  {
   "cell_type": "code",
   "execution_count": 244,
   "id": "bcb9c68d-d5e0-41b0-8535-d6c8f315bfb1",
   "metadata": {},
   "outputs": [
    {
     "data": {
      "image/png": "[encoded data removed]",
      "text/plain": [
       "<Figure size 1000x600 with 1 Axes>"
      ]
     },
     "metadata": {},
     "output_type": "display_data"
    }
   ],
   "source": [
    "plt.figure(figsize=(10, 6))\n",
    "plt.bar(df_pd[\"hour\"], df_pd[\"total_llamadas\"], color = 'blue')\n",
    "plt.xlabel(TITLE_X)\n",
    "plt.ylabel(TITLE_Y)\n",
    "plt.title(TITLE)\n",
    "plt.xticks(range(0, 24))\n",
    "plt.grid(True)\n",
    "plt.show()"
   ]
  },
  {
   "cell_type": "code",
   "execution_count": null,
   "id": "1e32cb2e-2b6e-4212-92ac-ad2761dd67d6",
   "metadata": {},
   "outputs": [],
   "source": []
  }
 ],
 "metadata": {
  "kernelspec": {
   "display_name": "Python 3 (ipykernel)",
   "language": "python",
   "name": "python3"
  },
  "language_info": {
   "codemirror_mode": {
    "name": "ipython",
    "version": 3
   },
   "file_extension": ".py",
   "mimetype": "text/x-python",
   "name": "python",
   "nbconvert_exporter": "python",
   "pygments_lexer": "ipython3",
   "version": "3.11.6"
  }
 },
 "nbformat": 4,
 "nbformat_minor": 5
}
